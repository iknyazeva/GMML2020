{
 "cells": [
  {
   "cell_type": "markdown",
   "metadata": {},
   "source": [
    "# Classical CCA: Practice#"
   ]
  },
  {
   "cell_type": "markdown",
   "metadata": {},
   "source": [
    "This is short practical part of introduction to CCA. Here we will work with NYC school dataset. We will have two groups of variables. One group will be measures of quality of education environment at particular school, other group will contain measures of students performance. We will find 2 canonical directions for our sets"
   ]
  },
  {
   "cell_type": "markdown",
   "metadata": {},
   "source": [
    "Start from importing all packages and downloading dataset"
   ]
  },
  {
   "cell_type": "code",
   "execution_count": 210,
   "metadata": {},
   "outputs": [],
   "source": [
    "import pandas as pd\n",
    "import numpy as np\n",
    "df = pd.read_csv('2016 School Explorer.csv')\n",
    "# choose relevant features\n",
    "df = df[['Rigorous Instruction %',\n",
    "      'Collaborative Teachers %',\n",
    "     'Supportive Environment %',\n",
    "       'Effective School Leadership %',\n",
    "   'Strong Family-Community Ties %',\n",
    "    'Trust %','Average ELA Proficiency',\n",
    "       'Average Math Proficiency']]\n",
    "# drop missing values\n",
    "df = df.dropna()\n",
    "# separate X and Y groups\n",
    "X = df[['Rigorous Instruction %',\n",
    "      'Collaborative Teachers %',\n",
    "     'Supportive Environment %',\n",
    "       'Effective School Leadership %',\n",
    "   'Strong Family-Community Ties %',\n",
    "    'Trust %'\n",
    "      ]]\n",
    "Y = df[['Average ELA Proficiency',\n",
    "       'Average Math Proficiency']]"
   ]
  },
  {
   "cell_type": "markdown",
   "metadata": {},
   "source": [
    "Look at groups of variables. Easy question - can more than two canonical directions be found there?"
   ]
  },
  {
   "cell_type": "markdown",
   "metadata": {},
   "source": [
    "Next we will do scaling"
   ]
  },
  {
   "cell_type": "code",
   "execution_count": 213,
   "metadata": {},
   "outputs": [
    {
     "name": "stderr",
     "output_type": "stream",
     "text": [
      "/Users/admin/opt/anaconda3/lib/python3.7/site-packages/ipykernel_launcher.py:2: SettingWithCopyWarning: \n",
      "A value is trying to be set on a copy of a slice from a DataFrame.\n",
      "Try using .loc[row_indexer,col_indexer] = value instead\n",
      "\n",
      "See the caveats in the documentation: http://pandas.pydata.org/pandas-docs/stable/user_guide/indexing.html#returning-a-view-versus-a-copy\n",
      "  \n",
      "/Users/admin/opt/anaconda3/lib/python3.7/site-packages/ipykernel_launcher.py:3: SettingWithCopyWarning: \n",
      "A value is trying to be set on a copy of a slice from a DataFrame.\n",
      "Try using .loc[row_indexer,col_indexer] = value instead\n",
      "\n",
      "See the caveats in the documentation: http://pandas.pydata.org/pandas-docs/stable/user_guide/indexing.html#returning-a-view-versus-a-copy\n",
      "  This is separate from the ipykernel package so we can avoid doing imports until\n"
     ]
    }
   ],
   "source": [
    "for col in X.columns:\n",
    "    X[col] = X[col].str.strip('%')\n",
    "    X[col] = X[col].astype('int')\n",
    "# Standardise the data\n",
    "from sklearn.preprocessing import StandardScaler\n",
    "sc = StandardScaler(with_mean=True, with_std=True)\n",
    "X_sc = sc.fit_transform(X)\n",
    "Y_sc = sc.fit_transform(Y)"
   ]
  },
  {
   "cell_type": "markdown",
   "metadata": {},
   "source": [
    "Now lets start to code our own implementation of CCA. Here we would not care about efficiency, but just cover the \n",
    "pipline, introduced in theorethical part"
   ]
  },
  {
   "cell_type": "markdown",
   "metadata": {},
   "source": [
    "Step 1. Compute covariance matrices. You may not care about scaling it with number of instances. Why? What it will\n",
    "affect?"
   ]
  },
  {
   "cell_type": "code",
   "execution_count": 174,
   "metadata": {},
   "outputs": [
    {
     "data": {
      "text/plain": [
       "(2, 6)"
      ]
     },
     "execution_count": 174,
     "metadata": {},
     "output_type": "execute_result"
    }
   ],
   "source": [
    "#Compute CCA by hands\n",
    "\n",
    "\n",
    "\n"
   ]
  },
  {
   "cell_type": "markdown",
   "metadata": {},
   "source": [
    "Step 2. Compute inverse of square roots of covariation matrices. It is needed for computetions of A and B matrices and for computing T matrix. Main formulas are provided below \n",
    "\\\n",
    "$$T = \\Sigma_{XX}^{-\\frac{1}{2}}\\Sigma_{XY}\\Sigma_{YY}^{-\\frac{1}{2}} $$\n",
    "\\\n",
    "$$T=U\\Lambda V^T $$\n",
    "\\\n",
    "$$A _k^{k \\times n}= U_k ^T \\Sigma_{XX}^{-\\frac{1}{2}}, \\ B _k^{k \\times m}= V_k ^T \\Sigma_{YY}^{-\\frac{1}{2}}$$"
   ]
  },
  {
   "cell_type": "code",
   "execution_count": 191,
   "metadata": {},
   "outputs": [],
   "source": []
  },
  {
   "cell_type": "markdown",
   "metadata": {},
   "source": [
    "Step 3. Compute T and its SVD"
   ]
  },
  {
   "cell_type": "code",
   "execution_count": 192,
   "metadata": {},
   "outputs": [],
   "source": []
  },
  {
   "cell_type": "code",
   "execution_count": 193,
   "metadata": {},
   "outputs": [],
   "source": []
  },
  {
   "cell_type": "markdown",
   "metadata": {},
   "source": [
    "Step 4. Compute A and B"
   ]
  },
  {
   "cell_type": "code",
   "execution_count": 204,
   "metadata": {},
   "outputs": [],
   "source": []
  },
  {
   "cell_type": "markdown",
   "metadata": {},
   "source": [
    "Step 5. Compute maximized pairwise correlations"
   ]
  },
  {
   "cell_type": "code",
   "execution_count": 205,
   "metadata": {},
   "outputs": [],
   "source": []
  },
  {
   "cell_type": "code",
   "execution_count": 209,
   "metadata": {},
   "outputs": [
    {
     "name": "stdout",
     "output_type": "stream",
     "text": [
      "0.4605990186268906\n",
      "0.18447786228102253\n"
     ]
    }
   ],
   "source": [
    "\n",
    "\n"
   ]
  },
  {
   "cell_type": "markdown",
   "metadata": {},
   "source": [
    "Now we do the same thing with package for CCA, and check if everything is done correctly"
   ]
  },
  {
   "cell_type": "code",
   "execution_count": 146,
   "metadata": {},
   "outputs": [],
   "source": [
    "from sklearn.cross_decomposition import CCA\n",
    "nComponents = 2 # min(p,q) components\n",
    "cca = CCA(n_components=nComponents)\n",
    "cca.fit(X_sc, Y_sc)\n",
    "X_c, Y_c = cca.transform(X_sc, Y_sc)"
   ]
  },
  {
   "cell_type": "code",
   "execution_count": 143,
   "metadata": {},
   "outputs": [
    {
     "name": "stdout",
     "output_type": "stream",
     "text": [
      "Maximized correlation between first pair of canonical variables :  0.46059901862688896\n",
      "Maximized correlation between second pair of canonical variables :  0.18447786228102314\n"
     ]
    }
   ],
   "source": [
    "#Check variances\n",
    "var1 = (X_c.T@Y_c)[0,0]/np.sqrt((X_c.T@X_c)[0,0]*(Y_c.T@Y_c)[0,0])\n",
    "var2 = (X_c.T@Y_c)[1,1]/np.sqrt((X_c.T@X_c)[1,1]*(Y_c.T@Y_c)[1,1])\n",
    "print(\"Maximized correlation between first pair of canonical variables : \", var1)\n",
    "print(\"Maximized correlation between second pair of canonical variables : \", var2)"
   ]
  },
  {
   "cell_type": "code",
   "execution_count": 144,
   "metadata": {},
   "outputs": [
    {
     "name": "stdout",
     "output_type": "stream",
     "text": [
      "[[ 0.13338206  0.2411578 ]\n",
      " [-0.02180757 -0.11011536]\n",
      " [ 0.72906666 -0.25726738]\n",
      " [ 0.4445637   0.91706336]\n",
      " [-0.01650599 -0.278886  ]\n",
      " [-0.50228093 -0.38951866]]\n",
      "[[-0.23574573  0.97181477]\n",
      " [ 0.97181477  0.23574573]]\n"
     ]
    }
   ],
   "source": [
    "#Coefficient \n",
    "print(cca.x_rotations_)\n",
    "print(cca.y_rotations_)"
   ]
  }
 ],
 "metadata": {
  "kernelspec": {
   "display_name": "Python 3",
   "language": "python",
   "name": "python3"
  },
  "language_info": {
   "codemirror_mode": {
    "name": "ipython",
    "version": 3
   },
   "file_extension": ".py",
   "mimetype": "text/x-python",
   "name": "python",
   "nbconvert_exporter": "python",
   "pygments_lexer": "ipython3",
   "version": "3.7.4"
  }
 },
 "nbformat": 4,
 "nbformat_minor": 2
}
