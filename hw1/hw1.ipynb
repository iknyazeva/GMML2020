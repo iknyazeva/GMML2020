{
 "cells": [
  {
   "cell_type": "markdown",
   "metadata": {},
   "source": [
    "# Geometrical Methods in Machine Learning\n",
    "\n",
    "## Homework 1"
   ]
  },
  {
   "cell_type": "markdown",
   "metadata": {},
   "source": [
    "### Task 1: PCA + interpretation\n",
    "\n",
    "Consider the COVID-19 Healthy Diet Dataset dataset - https://www.kaggle.com/mariaren/covid19-healthy-diet-dataset. Join the kcal, protein and fat supply data frames, excluding the redundant features if needed.\n",
    "\n",
    "Apply PCA analysis to data to find PCA estimate of data dimensionality given by the number of variables explaining 80% and 95% of the variance.\n",
    "\n",
    "Draw and interpret biplots of the first two principal components and top 5 features with the highest influence (largest absolute eigenvalue coefficient) to each first two principal components. Find and decribe (dis-)similar features in original space for which vectors of coefficients are close in terms of absolute scalar product, thus close to colinear on a biplot. What does it mean if feature vectors are orthogonal on biplot?\n",
    "\n",
    "Comment whether PCA is applicable to various types of categorical variables (nominal, ordinal)."
   ]
  },
  {
   "cell_type": "code",
   "execution_count": null,
   "metadata": {},
   "outputs": [],
   "source": [
    "### your code here"
   ]
  },
  {
   "cell_type": "markdown",
   "metadata": {},
   "source": [
    "### Task 2: PCA + regression\n",
    "\n",
    "Consider the regression problems of predicting target variables of 1) obesity, along with COVID-19 2) total cases and 3) deaths. Apply a number of classifiers of your choice on raw data and reduced data of various dimensions. Exclude the aforementioned target variables from the analysis, if they strongly correlate with the target variable currently being predicted. Conclude whether the results of the regression analysis support the hypothesis that nutrition affects infection and lethality rates? Obesity rates?\n",
    "\n",
    "Perform a feature selection, selecting top 5 performing features, with any technique you know, compare them with top 5 features influencing the first two principal components. Compare top 5 features influencing the first two principal components with top 5 features most absolutely correlated with the target."
   ]
  },
  {
   "cell_type": "code",
   "execution_count": null,
   "metadata": {},
   "outputs": [],
   "source": [
    "### your code here"
   ]
  },
  {
   "cell_type": "markdown",
   "metadata": {},
   "source": [
    "### Task 3: ICA + optimization\n",
    "\n",
    "Implement ICA solution with the gradient descent optimization scheme, using one of the following loss functions:\n",
    "\n",
    "- kurtosis (Lecture 3 slides, pp. 45-48), or\n",
    "- negative entropy (Lecture 3 slides, pp. 50-57), or.\n",
    "- mutual information (Lecture 3 slides, pp. 63-65).\n",
    "\n",
    "To which classes of the approaches to the solution of ICA problem those loss functions belong to?"
   ]
  },
  {
   "cell_type": "code",
   "execution_count": null,
   "metadata": {},
   "outputs": [],
   "source": [
    "### your code here"
   ]
  },
  {
   "cell_type": "markdown",
   "metadata": {},
   "source": [
    "### Task 4: ICA + blind source separation"
   ]
  },
  {
   "cell_type": "markdown",
   "metadata": {},
   "source": [
    "2) Apply ICA using obtained optimization procedure to the mixture of $X_1 \\sim Laplace(0,1)$ and $X_2 \\sim U(0,1)$ used in (Seminar 2, section 3) and blind source separation problems for images (Seminar 2, section 4.1) and time series (Seminar 2, section 4.2). For each dataset plot loss function value as a function of optimization step. Plot scatter and distribution plots for (3) for 5 different optimization steps. Plot separated signals for (4.1) and (4.2) for 5 different optimization steps."
   ]
  },
  {
   "cell_type": "code",
   "execution_count": null,
   "metadata": {},
   "outputs": [],
   "source": [
    "### your code here"
   ]
  },
  {
   "cell_type": "markdown",
   "metadata": {},
   "source": [
    "#### Grading:\n",
    "8/10 points are awarded for completing all the tasks and giving proper answers to questions.  \n",
    "2/10 points are awarded for the quality of presentation, be sure to give explanations and comments to your solutions.  \n",
    "+1 extra point may be awarded for the extra work performed, be creative."
   ]
  }
 ],
 "metadata": {
  "kernelspec": {
   "display_name": "Python 3",
   "language": "python",
   "name": "python3"
  },
  "language_info": {
   "codemirror_mode": {
    "name": "ipython",
    "version": 3
   },
   "file_extension": ".py",
   "mimetype": "text/x-python",
   "name": "python",
   "nbconvert_exporter": "python",
   "pygments_lexer": "ipython3",
   "version": "3.8.2"
  }
 },
 "nbformat": 4,
 "nbformat_minor": 4
}
